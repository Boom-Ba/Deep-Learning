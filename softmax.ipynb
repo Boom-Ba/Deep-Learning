{
  "nbformat": 4,
  "nbformat_minor": 0,
  "metadata": {
    "colab": {
      "name": "softmax.ipynb",
      "provenance": [],
      "authorship_tag": "ABX9TyNZxgUu2JZgBt/iNJtb7vey",
      "include_colab_link": true
    },
    "kernelspec": {
      "name": "python3",
      "display_name": "Python 3"
    }
  },
  "cells": [
    {
      "cell_type": "markdown",
      "metadata": {
        "id": "view-in-github",
        "colab_type": "text"
      },
      "source": [
        "<a href=\"https://colab.research.google.com/github/Boom-Ba/Deep-learning/blob/master/softmax.ipynb\" target=\"_parent\"><img src=\"https://colab.research.google.com/assets/colab-badge.svg\" alt=\"Open In Colab\"/></a>"
      ]
    },
    {
      "cell_type": "code",
      "metadata": {
        "id": "zcwO07lEctmI",
        "colab_type": "code",
        "colab": {
          "base_uri": "https://localhost:8080/",
          "height": 34
        },
        "outputId": "9bb616b8-a54d-4bae-985e-10fdddd9c3a1"
      },
      "source": [
        "import math\n",
        "z =[1.0, 2.0, 3.0, 4.0, 1.0, 2.0, 3.0]\n",
        "z_exp = [math.exp(i) for i in z]\n",
        "print([round(i,2) for i in z_exp])"
      ],
      "execution_count": 1,
      "outputs": [
        {
          "output_type": "stream",
          "text": [
            "[2.72, 7.39, 20.09, 54.6, 2.72, 7.39, 20.09]\n"
          ],
          "name": "stdout"
        }
      ]
    },
    {
      "cell_type": "code",
      "metadata": {
        "id": "6OkGbGYgc6bZ",
        "colab_type": "code",
        "colab": {
          "base_uri": "https://localhost:8080/",
          "height": 34
        },
        "outputId": "d6abcad0-8046-4156-db12-373b893c66b0"
      },
      "source": [
        "sum_z_exp=sum(z_exp)\n",
        "print(round(sum_z_exp,2))"
      ],
      "execution_count": 2,
      "outputs": [
        {
          "output_type": "stream",
          "text": [
            "114.98\n"
          ],
          "name": "stdout"
        }
      ]
    },
    {
      "cell_type": "code",
      "metadata": {
        "id": "F87WPf8LdCg4",
        "colab_type": "code",
        "colab": {
          "base_uri": "https://localhost:8080/",
          "height": 34
        },
        "outputId": "24be1de4-c998-4990-a85f-0e1788c70dc8"
      },
      "source": [
        "softmax= [round(i/sum_z_exp,3) for i in z_exp]\n",
        "print(softmax)"
      ],
      "execution_count": 4,
      "outputs": [
        {
          "output_type": "stream",
          "text": [
            "[0.024, 0.064, 0.175, 0.475, 0.024, 0.064, 0.175]\n"
          ],
          "name": "stdout"
        }
      ]
    },
    {
      "cell_type": "code",
      "metadata": {
        "id": "NrTO9lZEdHzA",
        "colab_type": "code",
        "colab": {}
      },
      "source": [
        ""
      ],
      "execution_count": null,
      "outputs": []
    }
  ]
}