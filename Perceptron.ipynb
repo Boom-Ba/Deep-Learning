{
  "nbformat": 4,
  "nbformat_minor": 0,
  "metadata": {
    "colab": {
      "name": "Perceptron.ipynb",
      "provenance": [],
      "authorship_tag": "ABX9TyOXKBqjzLErXsNN+XT5OqZc",
      "include_colab_link": true
    },
    "kernelspec": {
      "name": "python3",
      "display_name": "Python 3"
    }
  },
  "cells": [
    {
      "cell_type": "markdown",
      "metadata": {
        "id": "view-in-github",
        "colab_type": "text"
      },
      "source": [
        "<a href=\"https://colab.research.google.com/github/Boom-Ba/Deep-learning/blob/master/Perceptron.ipynb\" target=\"_parent\"><img src=\"https://colab.research.google.com/assets/colab-badge.svg\" alt=\"Open In Colab\"/></a>"
      ]
    },
    {
      "cell_type": "code",
      "metadata": {
        "id": "uLH-SufWzTut",
        "colab_type": "code",
        "colab": {
          "base_uri": "https://localhost:8080/",
          "height": 34
        },
        "outputId": "8300d31f-8cc0-4af0-a37b-b1e2fa93c1bc"
      },
      "source": [
        "import numpy as np\n",
        "\n",
        "\n",
        "X = np.array([\n",
        "    [-2,4,-1],\n",
        "    [4,1,-1],\n",
        "    [1, 6, -1],\n",
        "    [2, 4, -1],\n",
        "    [6, 2, -1],\n",
        "\n",
        "])\n",
        "\n",
        "y = np.array([-1,-1,1,1,1])\n",
        "\n",
        "def perceptron_sgd(x,y):\n",
        "  w = np.zeros(len(x[0]))\n",
        "  eta =1\n",
        "  epoches =20\n",
        "  for t in range(epoches):\n",
        "    for i, item in enumerate(x):\n",
        "      if (np.dot(w, x[i])* y[i])<=0:\n",
        "        w =w+eta*x[i]*y[i]\n",
        "  return w\n",
        "w =perceptron_sgd(X,y)\n",
        "print(w)\n",
        "\n"
      ],
      "execution_count": 16,
      "outputs": [
        {
          "output_type": "stream",
          "text": [
            "[ 2.  3. 13.]\n"
          ],
          "name": "stdout"
        }
      ]
    },
    {
      "cell_type": "code",
      "metadata": {
        "id": "OXSPJnEx6qSm",
        "colab_type": "code",
        "colab": {
          "base_uri": "https://localhost:8080/",
          "height": 282
        },
        "outputId": "cdac48c9-eddf-4f5b-875c-1e16c15f41e0"
      },
      "source": [
        "X = np.array([\n",
        "    [-2,4,-1],\n",
        "    [4,1,-1],\n",
        "    [1, 6, -1],\n",
        "    [2, 4, -1],\n",
        "    [6, 2, -1],\n",
        "\n",
        "])\n",
        "\n",
        "y =np.array([-1,-1,1,1,1])\n",
        "#visualize\n",
        "from matplotlib import pyplot as plt\n",
        "%matplotlib inline \n",
        "\n",
        "#sample contains 2 negative and 3 positive\n",
        "for idx,sample in enumerate(X):\n",
        "  if idx<2:\n",
        "    plt.scatter(sample[0],sample[1],s=120,marker='_')\n",
        "  else:\n",
        "    plt.scatter(sample[0],sample[1],s=120,marker='+')\n",
        "plt.plot([-2,6],[6,0.5])\n",
        "                            "
      ],
      "execution_count": 21,
      "outputs": [
        {
          "output_type": "execute_result",
          "data": {
            "text/plain": [
              "[<matplotlib.lines.Line2D at 0x7f8adf992780>]"
            ]
          },
          "metadata": {
            "tags": []
          },
          "execution_count": 21
        },
        {
          "output_type": "display_data",
          "data": {
            "image/png": "[encoded data removed]",
            "text/plain": [
              "<Figure size 432x288 with 1 Axes>"
            ]
          },
          "metadata": {
            "tags": [],
            "needs_background": "light"
          }
        }
      ]
    },
    {
      "cell_type": "code",
      "metadata": {
        "id": "UnzY37nb7XvR",
        "colab_type": "code",
        "colab": {
          "base_uri": "https://localhost:8080/",
          "height": 296
        },
        "outputId": "988c97b9-84c8-41e3-e65f-565367909f09"
      },
      "source": [
        "#implement SGD\n",
        "def perceptron_sgd(x,y):\n",
        "  w =np.zeros(len(x[0]))\n",
        "  lr =1\n",
        "  epoches=30\n",
        "  for epoch in range(epoches):\n",
        "    for idx,sample in enumerate(x):\n",
        "      if np.dot(w,x[idx])*y[idx]<=0:\n",
        "        w+=lr*x[i]*y[i]\n",
        "  return w\n",
        "\n",
        "#plot error\n",
        "def perceptron_sgd_plot(x,y):\n",
        "  w =np.zeros(len(x[0]))\n",
        "  lr =1\n",
        "  epoches=30\n",
        "  errors=[]\n",
        "  for epoch in range(epoches):\n",
        "    total_error=0\n",
        "    for idx,sample in enumerate(x):\n",
        "      if np.dot(w,x[idx])*y[idx]<=0:\n",
        "        total_error+=np.dot(w,x[idx])*y[idx]\n",
        "        w+=lr*x[idx]*y[idx]\n",
        "    errors.append(total_error*(-1))\n",
        "  plt.plot(errors)\n",
        "  plt.xlabel('Epoch')\n",
        "  plt.ylabel('Error')\n",
        "  return w\n",
        "\n",
        "perceptron_sgd_plot(X,y)"
      ],
      "execution_count": 30,
      "outputs": [
        {
          "output_type": "execute_result",
          "data": {
            "text/plain": [
              "array([ 2.,  3., 13.])"
            ]
          },
          "metadata": {
            "tags": []
          },
          "execution_count": 30
        },
        {
          "output_type": "display_data",
          "data": {
            "image/png": "[encoded data removed]",
            "text/plain": [
              "<Figure size 432x288 with 1 Axes>"
            ]
          },
          "metadata": {
            "tags": [],
            "needs_background": "light"
          }
        }
      ]
    },
    {
      "cell_type": "code",
      "metadata": {
        "id": "TKTJ5fm99Bla",
        "colab_type": "code",
        "colab": {
          "base_uri": "https://localhost:8080/",
          "height": 265
        },
        "outputId": "ca69d5d4-a037-4002-ab4f-38229e0c109d"
      },
      "source": [
        "for i, sample in enumerate(X):\n",
        "  if i<2:\n",
        "    plt.scatter(sample[0], sample[1], s=120, marker ='_', linewidths=2 )\n",
        "  else:\n",
        "    plt.scatter(sample[0],sample[1],s=120, marker ='+',linewidth =2)\n",
        "  # Add our test samples\n",
        "\n",
        "  plt.scatter(2,2, s=120, marker='_', linewidths=2, color='yellow')\n",
        "  plt.scatter(4,3, s=120, marker='+', linewidths=2, color='blue')\n",
        "\n",
        "# Print the hyperplane calculated by svm_sgd()\n",
        "  x2=[w[0],w[1],-w[1],w[0]]\n",
        "  x3=[w[0],w[1],w[1],-w[0]]\n",
        "\n",
        "  x2x3 =np.array([x2,x3])\n",
        "  X,Y,U,V = zip(*x2x3)\n",
        "  ax = plt.gca()\n",
        "  ax.quiver(X,Y,U,V,scale=1, color='blue')"
      ],
      "execution_count": 31,
      "outputs": [
        {
          "output_type": "display_data",
          "data": {
            "image/png": "[encoded data removed]",
            "text/plain": [
              "<Figure size 432x288 with 1 Axes>"
            ]
          },
          "metadata": {
            "tags": [],
            "needs_background": "light"
          }
        }
      ]
    },
    {
      "cell_type": "markdown",
      "metadata": {
        "id": "G_Beetpy1cxF",
        "colab_type": "text"
      },
      "source": [
        ""
      ]
    }
  ]
}